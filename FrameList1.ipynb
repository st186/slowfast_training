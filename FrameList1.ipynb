{
 "cells": [
  {
   "cell_type": "code",
   "execution_count": 1,
   "id": "ac32bc24",
   "metadata": {},
   "outputs": [],
   "source": [
    "import pandas as pd\n",
    "import os"
   ]
  },
  {
   "cell_type": "code",
   "execution_count": 2,
   "id": "3aae1167",
   "metadata": {},
   "outputs": [],
   "source": [
    "import pandas as pd\n",
    "import os\n",
    "folder_path = '/home/softmaxai/Bhavika_Kanani/TechMahindra/AllActionModel/resize_data'\n",
    "train = pd.DataFrame()\n",
    "val = pd.DataFrame()\n",
    "\n",
    "\n",
    "for sub_dir in os.listdir(folder_path):\n",
    "    \n",
    "    full_path = os.path.join(folder_path, sub_dir)\n",
    "    videos = [full_path + \"/\"+ i for i in os.listdir(full_path)]\n",
    "    label = int(sub_dir.split(\"_\")[1]) - 1\n",
    "    \n",
    "    train_data = {'path':videos[:40], 'label':label}\n",
    "    val_data = {'path':videos[40:], 'label':label}\n",
    "    \n",
    "    train = train.append(pd.DataFrame(train_data), ignore_index=True)\n",
    "    val = val.append(pd.DataFrame(val_data), ignore_index=True)"
   ]
  },
  {
   "cell_type": "code",
   "execution_count": 3,
   "id": "7caffab4",
   "metadata": {},
   "outputs": [],
   "source": [
    "train = train.sample(frac=1).reset_index(drop=True)\n",
    "val = val.sample(frac=1).reset_index(drop=True)"
   ]
  },
  {
   "cell_type": "code",
   "execution_count": 5,
   "id": "7ffb9887",
   "metadata": {},
   "outputs": [
    {
     "data": {
      "text/plain": [
       "('/home/softmaxai/Bhavika_Kanani/TechMahindra/AllActionModel/resize_data/action_11/action11_4.mp4',\n",
       " 10)"
      ]
     },
     "execution_count": 5,
     "metadata": {},
     "output_type": "execute_result"
    }
   ],
   "source": [
    "train.iloc[0]['path'], train.iloc[0]['label']"
   ]
  },
  {
   "cell_type": "code",
   "execution_count": 7,
   "id": "1358912d",
   "metadata": {},
   "outputs": [],
   "source": [
    "train.to_csv(\"/home/softmaxai/Bhavika_Kanani/TechMahindra/AllActionModel/frame_list/train.csv\", index=False, sep=' ', header=None)\n",
    "val.to_csv(\"/home/softmaxai/Bhavika_Kanani/TechMahindra/AllActionModel/frame_list/val.csv\", index=False, sep=' ', header=None)\n",
    "val.to_csv(\"/home/softmaxai/Bhavika_Kanani/TechMahindra/AllActionModel/frame_list/test.csv\", index=False, sep=' ', header=None)"
   ]
  }
 ],
 "metadata": {
  "kernelspec": {
   "display_name": "Python 3 (ipykernel)",
   "language": "python",
   "name": "python3"
  },
  "language_info": {
   "codemirror_mode": {
    "name": "ipython",
    "version": 3
   },
   "file_extension": ".py",
   "mimetype": "text/x-python",
   "name": "python",
   "nbconvert_exporter": "python",
   "pygments_lexer": "ipython3",
   "version": "3.8.10"
  }
 },
 "nbformat": 4,
 "nbformat_minor": 5
}
